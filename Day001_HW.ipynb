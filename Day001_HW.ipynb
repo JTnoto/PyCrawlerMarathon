{
 "cells": [
  {
   "cell_type": "markdown",
   "metadata": {},
   "source": [
    "1.（簡答題）檔案、API、爬蟲三種取得資料方式有什麼不同？"
   ]
  },
  {
   "cell_type": "markdown",
   "metadata": {},
   "source": [
    "檔案:獲得的資料有格式，且可以從網路上直接下載\n",
    "\n",
    "API:透過輸入變數，連接不同的資料庫取得需要的資料\n",
    "\n",
    "爬蟲:從網頁上取得"
   ]
  },
  {
   "cell_type": "markdown",
   "metadata": {},
   "source": [
    "2.（實作）完成一個程式，需滿足下列需求：\n",
    "\n",
    "\n",
    "\n",
    "「下載指定檔案到 Data 資料夾，存成檔名 Homework.txt」的檔案網址：https://www.w3.org/TR/PNG/iso_8859-1.txt 或任一個 .txt 的檔案網址\n",
    "\n",
    "檢查 Data 資料夾是否有 Homework.txt 檔名之檔案\n",
    "\n",
    "將「Hello World」字串覆寫到 Homework.txt 檔案\n",
    "\n",
    "檢查 Homework.txt 檔案字數是否符合 Hello World 字數"
   ]
  },
  {
   "cell_type": "code",
   "execution_count": 1,
   "metadata": {},
   "outputs": [],
   "source": [
    "from urllib.request import urlretrieve\n",
    "import os"
   ]
  },
  {
   "cell_type": "code",
   "execution_count": 2,
   "metadata": {},
   "outputs": [
    {
     "data": {
      "text/plain": [
       "('Homework.txt', <http.client.HTTPMessage at 0x2594cc340a0>)"
      ]
     },
     "execution_count": 2,
     "metadata": {},
     "output_type": "execute_result"
    }
   ],
   "source": [
    "os.makedirs('./Data', exist_ok= True)\n",
    "\n",
    "urlretrieve('https://www.w3.org/TR/PNG/iso_8859-1.txt' , 'Homework.txt')"
   ]
  },
  {
   "cell_type": "code",
   "execution_count": 3,
   "metadata": {},
   "outputs": [
    {
     "name": "stdout",
     "output_type": "stream",
     "text": [
      "['.ipynb_checkpoints', 'Data', 'Day001_HW.ipynb', 'Day001_practice.ipynb', 'example-with.txt', 'example.txt', 'example1.txt', 'example2.txt', 'Homework.txt', '__MACOSX']\n",
      "['.ipynb_checkpoints', 'Data', 'Day001_HW.ipynb', 'Day001_practice.ipynb', 'example-with.txt', 'example.txt', 'example1.txt', 'example2.txt', 'Homework.txt', '__MACOSX']\n",
      "['.ipynb_checkpoints', 'Data', 'Day001_HW.ipynb', 'Day001_practice.ipynb', 'example-with.txt', 'example.txt', 'example1.txt', 'example2.txt', 'Homework.txt', '__MACOSX']\n",
      "['.ipynb_checkpoints', 'Data', 'Day001_HW.ipynb', 'Day001_practice.ipynb', 'example-with.txt', 'example.txt', 'example1.txt', 'example2.txt', 'Homework.txt', '__MACOSX']\n",
      "['.ipynb_checkpoints', 'Data', 'Day001_HW.ipynb', 'Day001_practice.ipynb', 'example-with.txt', 'example.txt', 'example1.txt', 'example2.txt', 'Homework.txt', '__MACOSX']\n",
      "['.ipynb_checkpoints', 'Data', 'Day001_HW.ipynb', 'Day001_practice.ipynb', 'example-with.txt', 'example.txt', 'example1.txt', 'example2.txt', 'Homework.txt', '__MACOSX']\n",
      "['.ipynb_checkpoints', 'Data', 'Day001_HW.ipynb', 'Day001_practice.ipynb', 'example-with.txt', 'example.txt', 'example1.txt', 'example2.txt', 'Homework.txt', '__MACOSX']\n",
      "['.ipynb_checkpoints', 'Data', 'Day001_HW.ipynb', 'Day001_practice.ipynb', 'example-with.txt', 'example.txt', 'example1.txt', 'example2.txt', 'Homework.txt', '__MACOSX']\n",
      "['.ipynb_checkpoints', 'Data', 'Day001_HW.ipynb', 'Day001_practice.ipynb', 'example-with.txt', 'example.txt', 'example1.txt', 'example2.txt', 'Homework.txt', '__MACOSX']\n",
      "['.ipynb_checkpoints', 'Data', 'Day001_HW.ipynb', 'Day001_practice.ipynb', 'example-with.txt', 'example.txt', 'example1.txt', 'example2.txt', 'Homework.txt', '__MACOSX']\n"
     ]
    }
   ],
   "source": [
    "dirs = os.listdir('./')\n",
    "\n",
    "for file in dirs:\n",
    "    print(dirs)"
   ]
  },
  {
   "cell_type": "code",
   "execution_count": 5,
   "metadata": {},
   "outputs": [
    {
     "name": "stdout",
     "output_type": "stream",
     "text": [
      "11\n"
     ]
    }
   ],
   "source": [
    "fn = open('Homework.txt', 'w')\n",
    "f = fn.write('Hello World')\n",
    "fn.close()\n",
    "print(f)"
   ]
  },
  {
   "cell_type": "code",
   "execution_count": null,
   "metadata": {},
   "outputs": [],
   "source": []
  }
 ],
 "metadata": {
  "kernelspec": {
   "display_name": "Python 3",
   "language": "python",
   "name": "python3"
  },
  "language_info": {
   "codemirror_mode": {
    "name": "ipython",
    "version": 3
   },
   "file_extension": ".py",
   "mimetype": "text/x-python",
   "name": "python",
   "nbconvert_exporter": "python",
   "pygments_lexer": "ipython3",
   "version": "3.8.3"
  }
 },
 "nbformat": 4,
 "nbformat_minor": 4
}
